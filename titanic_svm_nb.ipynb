{
 "cells": [
  {
   "cell_type": "markdown",
   "metadata": {},
   "source": [
    "Imports"
   ]
  },
  {
   "cell_type": "code",
   "execution_count": 1,
   "metadata": {
    "collapsed": false
   },
   "outputs": [],
   "source": [
    "import numpy as np\n",
    "import matplotlib.pyplot as plt\n",
    "import pandas as pd\n",
    "from sklearn.svm import SVC\n",
    "from sklearn.cross_validation import KFold\n",
    "\n",
    "# use seaborn plotting defaults\n",
    "import seaborn as sns; sns.set()"
   ]
  },
  {
   "cell_type": "markdown",
   "metadata": {},
   "source": [
    "Read and pre-process data"
   ]
  },
  {
   "cell_type": "code",
   "execution_count": 2,
   "metadata": {
    "collapsed": true
   },
   "outputs": [],
   "source": [
    "df_titanic = pd.read_csv(\"train.csv\", index_col=\"PassengerId\")\n",
    "\n",
    "df_titanic.Age.fillna(df_titanic.Age.median(), inplace=True)\n",
    "\n",
    "df_titanic.loc[df_titanic[\"Sex\"] == \"male\", \"Sex\"] = 0\n",
    "df_titanic.loc[df_titanic[\"Sex\"] == \"female\", \"Sex\"] = 1\n",
    "\n",
    "df_titanic.Embarked.fillna(\"S\", inplace=True)\n",
    "df_titanic.loc[df_titanic[\"Embarked\"] == \"S\", \"Embarked\"] = 0\n",
    "df_titanic.loc[df_titanic[\"Embarked\"] == \"C\", \"Embarked\"] = 1\n",
    "df_titanic.loc[df_titanic[\"Embarked\"] == \"Q\", \"Embarked\"] = 2"
   ]
  },
  {
   "cell_type": "code",
   "execution_count": 3,
   "metadata": {
    "collapsed": false,
    "scrolled": true
   },
   "outputs": [
    {
     "data": {
      "text/html": [
       "<div>\n",
       "<table border=\"1\" class=\"dataframe\">\n",
       "  <thead>\n",
       "    <tr style=\"text-align: right;\">\n",
       "      <th></th>\n",
       "      <th>Survived</th>\n",
       "      <th>Pclass</th>\n",
       "      <th>Name</th>\n",
       "      <th>Sex</th>\n",
       "      <th>Age</th>\n",
       "      <th>SibSp</th>\n",
       "      <th>Parch</th>\n",
       "      <th>Ticket</th>\n",
       "      <th>Fare</th>\n",
       "      <th>Cabin</th>\n",
       "      <th>Embarked</th>\n",
       "    </tr>\n",
       "    <tr>\n",
       "      <th>PassengerId</th>\n",
       "      <th></th>\n",
       "      <th></th>\n",
       "      <th></th>\n",
       "      <th></th>\n",
       "      <th></th>\n",
       "      <th></th>\n",
       "      <th></th>\n",
       "      <th></th>\n",
       "      <th></th>\n",
       "      <th></th>\n",
       "      <th></th>\n",
       "    </tr>\n",
       "  </thead>\n",
       "  <tbody>\n",
       "    <tr>\n",
       "      <th>1</th>\n",
       "      <td>0</td>\n",
       "      <td>3</td>\n",
       "      <td>Braund, Mr. Owen Harris</td>\n",
       "      <td>0</td>\n",
       "      <td>22.0</td>\n",
       "      <td>1</td>\n",
       "      <td>0</td>\n",
       "      <td>A/5 21171</td>\n",
       "      <td>7.2500</td>\n",
       "      <td>NaN</td>\n",
       "      <td>0</td>\n",
       "    </tr>\n",
       "    <tr>\n",
       "      <th>2</th>\n",
       "      <td>1</td>\n",
       "      <td>1</td>\n",
       "      <td>Cumings, Mrs. John Bradley (Florence Briggs Th...</td>\n",
       "      <td>1</td>\n",
       "      <td>38.0</td>\n",
       "      <td>1</td>\n",
       "      <td>0</td>\n",
       "      <td>PC 17599</td>\n",
       "      <td>71.2833</td>\n",
       "      <td>C85</td>\n",
       "      <td>1</td>\n",
       "    </tr>\n",
       "    <tr>\n",
       "      <th>3</th>\n",
       "      <td>1</td>\n",
       "      <td>3</td>\n",
       "      <td>Heikkinen, Miss. Laina</td>\n",
       "      <td>1</td>\n",
       "      <td>26.0</td>\n",
       "      <td>0</td>\n",
       "      <td>0</td>\n",
       "      <td>STON/O2. 3101282</td>\n",
       "      <td>7.9250</td>\n",
       "      <td>NaN</td>\n",
       "      <td>0</td>\n",
       "    </tr>\n",
       "    <tr>\n",
       "      <th>4</th>\n",
       "      <td>1</td>\n",
       "      <td>1</td>\n",
       "      <td>Futrelle, Mrs. Jacques Heath (Lily May Peel)</td>\n",
       "      <td>1</td>\n",
       "      <td>35.0</td>\n",
       "      <td>1</td>\n",
       "      <td>0</td>\n",
       "      <td>113803</td>\n",
       "      <td>53.1000</td>\n",
       "      <td>C123</td>\n",
       "      <td>0</td>\n",
       "    </tr>\n",
       "    <tr>\n",
       "      <th>5</th>\n",
       "      <td>0</td>\n",
       "      <td>3</td>\n",
       "      <td>Allen, Mr. William Henry</td>\n",
       "      <td>0</td>\n",
       "      <td>35.0</td>\n",
       "      <td>0</td>\n",
       "      <td>0</td>\n",
       "      <td>373450</td>\n",
       "      <td>8.0500</td>\n",
       "      <td>NaN</td>\n",
       "      <td>0</td>\n",
       "    </tr>\n",
       "  </tbody>\n",
       "</table>\n",
       "</div>"
      ],
      "text/plain": [
       "             Survived  Pclass  \\\n",
       "PassengerId                     \n",
       "1                   0       3   \n",
       "2                   1       1   \n",
       "3                   1       3   \n",
       "4                   1       1   \n",
       "5                   0       3   \n",
       "\n",
       "                                                          Name Sex   Age  \\\n",
       "PassengerId                                                                \n",
       "1                                      Braund, Mr. Owen Harris   0  22.0   \n",
       "2            Cumings, Mrs. John Bradley (Florence Briggs Th...   1  38.0   \n",
       "3                                       Heikkinen, Miss. Laina   1  26.0   \n",
       "4                 Futrelle, Mrs. Jacques Heath (Lily May Peel)   1  35.0   \n",
       "5                                     Allen, Mr. William Henry   0  35.0   \n",
       "\n",
       "             SibSp  Parch            Ticket     Fare Cabin Embarked  \n",
       "PassengerId                                                          \n",
       "1                1      0         A/5 21171   7.2500   NaN        0  \n",
       "2                1      0          PC 17599  71.2833   C85        1  \n",
       "3                0      0  STON/O2. 3101282   7.9250   NaN        0  \n",
       "4                1      0            113803  53.1000  C123        0  \n",
       "5                0      0            373450   8.0500   NaN        0  "
      ]
     },
     "execution_count": 3,
     "metadata": {},
     "output_type": "execute_result"
    }
   ],
   "source": [
    "df_titanic.head()"
   ]
  },
  {
   "cell_type": "code",
   "execution_count": 6,
   "metadata": {
    "collapsed": true
   },
   "outputs": [],
   "source": [
    "predictors = [\"Pclass\", \"Sex\", \"Age\", \"SibSp\", \"Parch\", \"Fare\", \"Embarked\"]"
   ]
  },
  {
   "cell_type": "code",
   "execution_count": 7,
   "metadata": {
    "collapsed": true
   },
   "outputs": [],
   "source": [
    "for n, index in enumerate(predictors):\n",
    "    df_titanic[index] = (df_titanic.loc[:, index] - df_titanic.loc[:, index].mean())/df_titanic.loc[:, index].std()"
   ]
  },
  {
   "cell_type": "code",
   "execution_count": 8,
   "metadata": {
    "collapsed": true
   },
   "outputs": [],
   "source": [
    "kf_passengers = KFold(df_titanic.shape[0], n_folds=4, random_state=1)"
   ]
  },
  {
   "cell_type": "code",
   "execution_count": 9,
   "metadata": {
    "collapsed": false
   },
   "outputs": [
    {
     "name": "stdout",
     "output_type": "stream",
     "text": [
      "Accuracy on the training set: 0.7867564534231201\n"
     ]
    }
   ],
   "source": [
    "clf = SVC(kernel='linear')\n",
    "predictions = []\n",
    "for train, test in kf_passengers:\n",
    "    train_predictors = (df_titanic[predictors].iloc[train, :])\n",
    "    train_target = df_titanic[\"Survived\"].iloc[train]\n",
    "    clf.fit(train_predictors, train_target)\n",
    "    test_predictions = clf.predict(df_titanic[predictors].iloc[test, :])\n",
    "    predictions.append(test_predictions)\n",
    "predictions = np.concatenate(predictions, axis=0)\n",
    "accuracy = float((predictions == df_titanic.Survived).sum())/len(predictions)\n",
    "print('Accuracy on the training set:', accuracy)"
   ]
  },
  {
   "cell_type": "code",
   "execution_count": 10,
   "metadata": {
    "collapsed": false
   },
   "outputs": [
    {
     "name": "stdout",
     "output_type": "stream",
     "text": [
      "Accuracy on the training set: 0.8237934904601572\n"
     ]
    }
   ],
   "source": [
    "clf = SVC(kernel='poly', degree=3)\n",
    "predictions = []\n",
    "for train, test in kf_passengers:\n",
    "    train_predictors = (df_titanic[predictors].iloc[train, :])\n",
    "    train_target = df_titanic[\"Survived\"].iloc[train]\n",
    "    clf.fit(train_predictors, train_target)\n",
    "    test_predictions = clf.predict(df_titanic[predictors].iloc[test, :])\n",
    "    predictions.append(test_predictions)\n",
    "predictions = np.concatenate(predictions, axis=0)\n",
    "accuracy = float((predictions == df_titanic.Survived).sum())/len(predictions)\n",
    "print('Accuracy on the training set:', accuracy)"
   ]
  },
  {
   "cell_type": "code",
   "execution_count": 11,
   "metadata": {
    "collapsed": false
   },
   "outputs": [
    {
     "name": "stdout",
     "output_type": "stream",
     "text": [
      "Accuracy on the training set: 0.8305274971941639\n"
     ]
    }
   ],
   "source": [
    "clf = SVC(kernel='rbf')\n",
    "predictions = []\n",
    "for train, test in kf_passengers:\n",
    "    train_predictors = (df_titanic[predictors].iloc[train, :])\n",
    "    train_target = df_titanic[\"Survived\"].iloc[train]\n",
    "    clf.fit(train_predictors, train_target)\n",
    "    test_predictions = clf.predict(df_titanic[predictors].iloc[test, :])\n",
    "    predictions.append(test_predictions)\n",
    "predictions = np.concatenate(predictions, axis=0)\n",
    "accuracy = float((predictions == df_titanic.Survived).sum())/len(predictions)\n",
    "print('Accuracy on the training set:', accuracy)"
   ]
  },
  {
   "cell_type": "code",
   "execution_count": 12,
   "metadata": {
    "collapsed": false
   },
   "outputs": [
    {
     "name": "stdout",
     "output_type": "stream",
     "text": [
      "Accuracy on the training set: 0.6161616161616161\n"
     ]
    }
   ],
   "source": [
    "clf = SVC(kernel='sigmoid')\n",
    "predictions = []\n",
    "for train, test in kf_passengers:\n",
    "    train_predictors = (df_titanic[predictors].iloc[train, :])\n",
    "    train_target = df_titanic[\"Survived\"].iloc[train]\n",
    "    clf.fit(train_predictors, train_target)\n",
    "    test_predictions = clf.predict(df_titanic[predictors].iloc[test, :])\n",
    "    predictions.append(test_predictions)\n",
    "predictions = np.concatenate(predictions, axis=0)\n",
    "accuracy = float((predictions == df_titanic.Survived).sum())/len(predictions)\n",
    "print('Accuracy on the training set:', accuracy)"
   ]
  },
  {
   "cell_type": "code",
   "execution_count": null,
   "metadata": {
    "collapsed": true
   },
   "outputs": [],
   "source": []
  }
 ],
 "metadata": {
  "kernelspec": {
   "display_name": "Python 3",
   "language": "python",
   "name": "python3"
  },
  "language_info": {
   "codemirror_mode": {
    "name": "ipython",
    "version": 3
   },
   "file_extension": ".py",
   "mimetype": "text/x-python",
   "name": "python",
   "nbconvert_exporter": "python",
   "pygments_lexer": "ipython3",
   "version": "3.5.1"
  }
 },
 "nbformat": 4,
 "nbformat_minor": 0
}
