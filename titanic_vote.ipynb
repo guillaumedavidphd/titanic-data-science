{
 "cells": [
  {
   "cell_type": "markdown",
   "metadata": {},
   "source": [
    "# Imports"
   ]
  },
  {
   "cell_type": "markdown",
   "metadata": {},
   "source": [
    "## General"
   ]
  },
  {
   "cell_type": "code",
   "execution_count": 1,
   "metadata": {
    "collapsed": true
   },
   "outputs": [],
   "source": [
    "import pandas as pd\n",
    "import numpy as np"
   ]
  },
  {
   "cell_type": "markdown",
   "metadata": {},
   "source": [
    "## Linear regression"
   ]
  },
  {
   "cell_type": "code",
   "execution_count": 2,
   "metadata": {
    "collapsed": true
   },
   "outputs": [],
   "source": [
    "from sklearn.linear_model import LinearRegression\n",
    "from sklearn.cross_validation import KFold\n",
    "from sklearn.preprocessing import PolynomialFeatures\n",
    "from sklearn.pipeline import Pipeline"
   ]
  },
  {
   "cell_type": "markdown",
   "metadata": {},
   "source": [
    "## Logistic regression"
   ]
  },
  {
   "cell_type": "code",
   "execution_count": 3,
   "metadata": {
    "collapsed": true
   },
   "outputs": [],
   "source": [
    "from sklearn.linear_model import LogisticRegression"
   ]
  },
  {
   "cell_type": "markdown",
   "metadata": {},
   "source": [
    "## SVM Classifier"
   ]
  },
  {
   "cell_type": "code",
   "execution_count": 4,
   "metadata": {
    "collapsed": true
   },
   "outputs": [],
   "source": [
    "from sklearn.svm import SVC"
   ]
  },
  {
   "cell_type": "markdown",
   "metadata": {},
   "source": [
    "# Read data"
   ]
  },
  {
   "cell_type": "code",
   "execution_count": 5,
   "metadata": {
    "collapsed": false
   },
   "outputs": [],
   "source": [
    "df_titanic = pd.DataFrame(pd.read_csv(\"train.csv\", index_col=\"PassengerId\"))"
   ]
  },
  {
   "cell_type": "markdown",
   "metadata": {},
   "source": [
    "# Preprocess data"
   ]
  },
  {
   "cell_type": "code",
   "execution_count": 6,
   "metadata": {
    "collapsed": true
   },
   "outputs": [],
   "source": [
    "df_titanic.drop([\"Ticket\", \"Cabin\", \"Name\"], axis=1, inplace=True)\n",
    "df_titanic.Age.fillna(df_titanic.Age.median(), inplace=True)\n",
    "df_titanic.loc[df_titanic[\"Sex\"] == \"male\", \"Sex\"] = 0\n",
    "df_titanic.loc[df_titanic[\"Sex\"] == \"female\", \"Sex\"] = 1\n",
    "df_titanic.Embarked.fillna(\"S\", inplace=True)\n",
    "df_titanic.loc[df_titanic[\"Embarked\"] == \"S\", \"Embarked\"] = 0\n",
    "df_titanic.loc[df_titanic[\"Embarked\"] == \"C\", \"Embarked\"] = 1\n",
    "df_titanic.loc[df_titanic[\"Embarked\"] == \"Q\", \"Embarked\"] = 2"
   ]
  },
  {
   "cell_type": "markdown",
   "metadata": {},
   "source": [
    "# Predictors"
   ]
  },
  {
   "cell_type": "code",
   "execution_count": 7,
   "metadata": {
    "collapsed": true
   },
   "outputs": [],
   "source": [
    "predictors = [\"Pclass\", \"Sex\", \"Age\", \"SibSp\", \"Parch\", \"Fare\", \"Embarked\"]"
   ]
  },
  {
   "cell_type": "markdown",
   "metadata": {},
   "source": [
    "# Normalize data"
   ]
  },
  {
   "cell_type": "code",
   "execution_count": 8,
   "metadata": {
    "collapsed": true
   },
   "outputs": [],
   "source": [
    "for n, index in enumerate(predictors):\n",
    "    df_titanic[index] = (df_titanic.loc[:, index] - df_titanic.loc[:, index].mean())/df_titanic.loc[:, index].std()"
   ]
  },
  {
   "cell_type": "markdown",
   "metadata": {},
   "source": [
    "# Initialize regression algorithm"
   ]
  },
  {
   "cell_type": "code",
   "execution_count": 9,
   "metadata": {
    "collapsed": true
   },
   "outputs": [],
   "source": [
    "alg = Pipeline([('poly', PolynomialFeatures(degree=2)),\n",
    "                ('linear', LinearRegression(fit_intercept=False, n_jobs=-1))])"
   ]
  },
  {
   "cell_type": "markdown",
   "metadata": {},
   "source": [
    "# Cross-validation folds"
   ]
  },
  {
   "cell_type": "code",
   "execution_count": 10,
   "metadata": {
    "collapsed": true
   },
   "outputs": [],
   "source": [
    "kf_passengers = KFold(df_titanic.shape[0], n_folds=4, random_state=1)"
   ]
  },
  {
   "cell_type": "markdown",
   "metadata": {},
   "source": [
    "# Make predictions"
   ]
  },
  {
   "cell_type": "code",
   "execution_count": 11,
   "metadata": {
    "collapsed": true
   },
   "outputs": [],
   "source": [
    "predictions = []\n",
    "for train, test in kf_passengers:\n",
    "    train_predictors = (df_titanic[predictors].iloc[train, :])\n",
    "    train_target = df_titanic[\"Survived\"].iloc[train]\n",
    "    alg.fit(train_predictors, train_target)\n",
    "    test_predictions = alg.predict(df_titanic[predictors].iloc[test, :])\n",
    "    predictions.append(test_predictions)\n",
    "\n",
    "predictions = np.concatenate(predictions, axis=0)\n",
    "predictions[predictions > .5] = 1\n",
    "predictions[predictions <= .5] = 0\n",
    "predictions_linreg = predictions"
   ]
  },
  {
   "cell_type": "markdown",
   "metadata": {},
   "source": [
    "# Initialize regression algorithm"
   ]
  },
  {
   "cell_type": "code",
   "execution_count": 12,
   "metadata": {
    "collapsed": true
   },
   "outputs": [],
   "source": [
    "alg = LogisticRegression(random_state=1)\n",
    "alg = Pipeline([('poly', PolynomialFeatures(degree=2)),\n",
    "                ('linear', LogisticRegression(fit_intercept=False, n_jobs=-1))])"
   ]
  },
  {
   "cell_type": "code",
   "execution_count": 13,
   "metadata": {
    "collapsed": false
   },
   "outputs": [],
   "source": [
    "predictions = []\n",
    "for train, test in kf_passengers:\n",
    "    train_predictors = (df_titanic[predictors].iloc[train, :])\n",
    "    train_target = df_titanic[\"Survived\"].iloc[train]\n",
    "    alg.fit(train_predictors, train_target)\n",
    "    test_predictions = alg.predict(df_titanic[predictors].iloc[test, :])\n",
    "    predictions.append(test_predictions)\n",
    "\n",
    "predictions = np.concatenate(predictions, axis=0)\n",
    "predictions[predictions > .5] = 1\n",
    "predictions[predictions <= .5] = 0\n",
    "predictions_logreg = predictions"
   ]
  },
  {
   "cell_type": "markdown",
   "metadata": {},
   "source": [
    "# SVM classifier"
   ]
  },
  {
   "cell_type": "code",
   "execution_count": 14,
   "metadata": {
    "collapsed": true
   },
   "outputs": [],
   "source": [
    "clf = SVC(kernel='rbf')\n",
    "predictions = []\n",
    "for train, test in kf_passengers:\n",
    "    train_predictors = (df_titanic[predictors].iloc[train, :])\n",
    "    train_target = df_titanic[\"Survived\"].iloc[train]\n",
    "    clf.fit(train_predictors, train_target)\n",
    "    test_predictions = clf.predict(df_titanic[predictors].iloc[test, :])\n",
    "    predictions.append(test_predictions)\n",
    "predictions = np.concatenate(predictions, axis=0)\n",
    "predictions_SVM = predictions"
   ]
  },
  {
   "cell_type": "code",
   "execution_count": 17,
   "metadata": {
    "collapsed": false
   },
   "outputs": [
    {
     "name": "stdout",
     "output_type": "stream",
     "text": [
      "Accuracy on the training set: 0.830527497194\n"
     ]
    }
   ],
   "source": [
    "predictions = (predictions_SVM+predictions_linreg+predictions_logreg)/3\n",
    "predictions[predictions > .5] = 1\n",
    "predictions[predictions <= .5] = 0\n",
    "accuracy = (predictions == df_titanic.Survived).sum()/len(predictions)\n",
    "print('Accuracy on the training set:', accuracy)"
   ]
  },
  {
   "cell_type": "code",
   "execution_count": 18,
   "metadata": {
    "collapsed": false
   },
   "outputs": [
    {
     "data": {
      "text/plain": [
       "array([ 0.        ,  1.        ,  0.        ,  1.        ,  0.        ,\n",
       "        0.        ,  0.        ,  0.        ,  0.        ,  1.        ,\n",
       "        1.        ,  1.        ,  0.        ,  0.        ,  0.33333333,\n",
       "        1.        ,  0.        ,  0.        ,  0.        ,  1.        ,\n",
       "        0.        ,  0.        ,  1.        ,  0.        ,  0.        ,\n",
       "        0.        ,  0.        ,  0.66666667,  1.        ,  0.        ,\n",
       "        0.        ,  1.        ,  1.        ,  0.        ,  0.33333333,\n",
       "        0.        ,  0.        ,  0.        ,  0.        ,  1.        ,\n",
       "        0.        ,  1.        ,  0.        ,  1.        ,  1.        ,\n",
       "        0.        ,  0.        ,  1.        ,  0.        ,  0.        ,\n",
       "        0.        ,  0.        ,  1.        ,  1.        ,  0.        ,\n",
       "        0.        ,  1.        ,  0.        ,  1.        ,  0.        ,\n",
       "        0.        ,  1.        ,  0.        ,  0.        ,  0.33333333,\n",
       "        0.        ,  1.        ,  0.        ,  0.        ,  0.        ,\n",
       "        0.        ,  0.        ,  0.        ,  0.        ,  0.        ,\n",
       "        0.        ,  0.        ,  0.        ,  1.        ,  0.33333333,\n",
       "        0.        ,  0.        ,  1.        ,  0.        ,  1.        ,\n",
       "        0.        ,  0.66666667,  0.        ,  1.        ,  0.        ,\n",
       "        0.        ,  0.        ,  0.        ,  0.        ,  0.        ,\n",
       "        0.        ,  0.        ,  0.66666667,  1.        ,  0.        ,\n",
       "        0.        ,  0.        ,  0.66666667,  0.        ,  0.        ,\n",
       "        0.        ,  0.33333333,  0.        ,  0.        ,  1.        ,\n",
       "        0.        ,  1.        ,  0.        ,  0.        ,  1.        ,\n",
       "        0.        ,  0.        ,  0.        ,  0.        ,  0.        ,\n",
       "        0.        ,  0.        ,  0.        ,  1.        ,  0.        ,\n",
       "        0.        ,  0.        ,  0.        ,  1.        ,  0.        ,\n",
       "        0.        ,  0.        ,  0.66666667,  1.        ,  0.        ,\n",
       "        0.        ,  1.        ,  0.        ,  0.        ,  0.        ,\n",
       "        1.        ,  0.33333333,  0.        ,  0.        ,  0.        ,\n",
       "        0.        ,  0.        ,  0.        ,  0.        ,  0.        ,\n",
       "        0.        ,  1.        ,  0.        ,  0.        ,  0.        ,\n",
       "        0.        ,  1.        ,  0.        ,  0.        ,  0.        ,\n",
       "        0.        ,  1.        ,  0.        ,  0.        ,  0.        ,\n",
       "        1.        ,  1.        ,  0.        ,  0.        ,  0.        ,\n",
       "        0.        ,  0.        ,  1.        ,  0.        ,  0.        ,\n",
       "        0.        ,  0.        ,  1.        ,  0.        ,  0.        ,\n",
       "        0.        ,  0.        ,  0.        ,  1.        ,  1.        ,\n",
       "        0.        ,  1.        ,  0.        ,  0.        ,  0.        ,\n",
       "        1.        ,  0.        ,  0.        ,  1.        ,  1.        ,\n",
       "        1.        ,  0.        ,  0.        ,  1.        ,  1.        ,\n",
       "        0.        ,  0.        ,  0.        ,  0.        ,  0.        ,\n",
       "        1.        ,  0.        ,  0.        ,  1.        ,  0.        ,\n",
       "        0.        ,  1.        ,  0.        ,  0.        ,  0.        ,\n",
       "        1.        ,  0.        ,  0.        ,  1.        ,  0.        ,\n",
       "        0.        ,  0.        ,  0.        ,  0.        ,  0.        ,\n",
       "        0.        ,  0.        ,  0.        ,  0.        ,  0.        ,\n",
       "        1.        ,  0.        ,  0.        ,  0.        ,  0.        ,\n",
       "        0.66666667,  0.        ,  1.        ,  0.        ,  0.        ,\n",
       "        1.        ,  1.        ,  0.        ,  0.        ,  0.        ,\n",
       "        0.33333333,  0.66666667,  1.        ,  0.66666667,  0.        ,\n",
       "        0.        ,  0.33333333,  0.        ,  0.        ,  0.33333333,\n",
       "        1.        ,  1.        ,  1.        ,  1.        ,  1.        ,\n",
       "        0.        ,  0.        ,  0.        ,  0.        ,  1.        ,\n",
       "        0.        ,  0.        ,  0.        ,  1.        ,  1.        ,\n",
       "        0.        ,  0.        ,  1.        ,  0.33333333,  1.        ,\n",
       "        1.        ,  1.        ,  0.        ,  0.        ,  0.33333333,\n",
       "        0.        ,  0.        ,  0.        ,  0.        ,  0.        ,\n",
       "        0.        ,  0.        ,  0.        ,  0.        ,  1.        ,\n",
       "        1.        ,  1.        ,  0.        ,  1.        ,  0.        ,\n",
       "        0.33333333,  0.        ,  1.        ,  0.        ,  1.        ,\n",
       "        1.        ,  0.        ,  0.        ,  1.        ,  0.        ,\n",
       "        1.        ,  1.        ,  1.        ,  0.        ,  1.        ,\n",
       "        1.        ,  1.        ,  1.        ,  0.        ,  0.        ,\n",
       "        0.66666667,  1.        ,  0.        ,  1.        ,  1.        ,\n",
       "        0.        ,  0.        ,  1.        ,  1.        ,  0.        ,\n",
       "        1.        ,  0.        ,  1.        ,  0.33333333,  1.        ,\n",
       "        1.        ,  0.        ,  0.        ,  0.        ,  1.        ,\n",
       "        0.        ,  0.        ,  1.        ,  0.        ,  0.        ,\n",
       "        1.        ,  1.        ,  0.        ,  0.        ,  0.        ,\n",
       "        1.        ,  1.        ,  0.33333333,  0.33333333,  0.        ,\n",
       "        0.        ,  0.        ,  0.        ,  0.        ,  0.        ,\n",
       "        0.        ,  1.        ,  1.        ,  1.        ,  1.        ,\n",
       "        0.        ,  0.        ,  0.66666667,  0.        ,  0.        ,\n",
       "        0.        ,  1.        ,  1.        ,  1.        ,  1.        ,\n",
       "        0.66666667,  0.        ,  0.        ,  0.        ,  0.        ,\n",
       "        1.        ,  1.        ,  0.        ,  0.        ,  0.        ,\n",
       "        1.        ,  1.        ,  0.        ,  1.        ,  0.        ,\n",
       "        0.        ,  0.        ,  1.        ,  0.        ,  1.        ,\n",
       "        0.        ,  0.        ,  0.        ,  1.        ,  1.        ,\n",
       "        0.        ,  0.66666667,  0.        ,  0.        ,  1.        ,\n",
       "        0.        ,  0.        ,  0.33333333,  0.        ,  1.        ,\n",
       "        0.        ,  0.        ,  1.        ,  0.        ,  0.        ,\n",
       "        0.        ,  0.        ,  1.        ,  0.        ,  0.        ,\n",
       "        0.66666667,  1.        ,  1.        ,  0.        ,  1.        ,\n",
       "        0.        ,  0.        ,  0.        ,  0.33333333,  0.        ,\n",
       "        0.        ,  1.        ,  1.        ,  0.        ,  0.        ,\n",
       "        0.        ,  0.33333333,  1.        ,  0.        ,  0.        ,\n",
       "        1.        ,  0.        ,  0.66666667,  0.        ,  0.        ,\n",
       "        1.        ,  0.        ,  0.        ,  1.        ,  0.        ,\n",
       "        1.        ,  1.        ,  0.        ,  1.        ,  0.        ,\n",
       "        0.        ,  0.        ,  0.        ,  0.        ,  0.        ,\n",
       "        0.        ,  0.        ,  1.        ,  1.        ,  0.        ,\n",
       "        0.        ,  0.        ,  0.        ,  0.        ,  0.        ,\n",
       "        0.        ,  0.        ,  0.        ,  0.        ,  1.        ,\n",
       "        0.        ,  0.        ,  1.        ,  1.        ,  0.66666667,\n",
       "        0.        ,  0.        ,  0.        ,  0.        ,  1.        ,\n",
       "        0.        ,  0.        ,  0.        ,  0.66666667,  0.        ,\n",
       "        0.        ,  1.        ,  0.        ,  0.        ,  0.        ,\n",
       "        0.        ,  0.        ,  0.        ,  0.        ,  0.        ,\n",
       "        0.        ,  1.        ,  0.        ,  1.        ,  0.        ,\n",
       "        0.        ,  1.        ,  1.        ,  0.66666667,  1.        ,\n",
       "        0.        ,  1.        ,  0.        ,  0.        ,  0.        ,\n",
       "        0.        ,  0.        ,  0.        ,  1.        ,  0.        ,\n",
       "        0.        ,  1.        ,  0.        ,  1.        ,  0.        ,\n",
       "        1.        ,  0.        ,  0.        ,  1.        ,  0.        ,\n",
       "        0.        ,  1.        ,  0.33333333,  0.        ,  0.        ,\n",
       "        1.        ,  0.        ,  0.        ,  0.66666667,  1.        ,\n",
       "        1.        ,  0.        ,  1.        ,  0.        ,  1.        ,\n",
       "        1.        ,  0.        ,  0.        ,  0.        ,  0.        ,\n",
       "        0.        ,  1.        ,  0.        ,  0.        ,  1.        ,\n",
       "        0.66666667,  0.        ,  0.        ,  0.        ,  0.66666667,\n",
       "        0.        ,  1.        ,  0.33333333,  1.        ,  0.33333333,\n",
       "        0.        ,  0.        ,  0.        ,  0.        ,  0.66666667,\n",
       "        0.        ,  0.        ,  0.66666667,  0.        ,  0.        ,\n",
       "        0.        ,  1.        ,  0.        ,  1.        ,  0.        ,\n",
       "        0.        ,  1.        ,  1.        ,  1.        ,  0.        ,\n",
       "        1.        ,  1.        ,  0.        ,  0.        ,  0.        ,\n",
       "        1.        ,  0.        ,  0.        ,  0.        ,  0.        ,\n",
       "        0.        ,  1.        ,  0.        ,  0.66666667,  0.        ,\n",
       "        0.        ,  1.        ,  0.        ,  0.        ,  0.        ,\n",
       "        1.        ,  0.        ,  0.        ,  0.        ,  0.        ,\n",
       "        0.        ,  0.        ,  0.        ,  1.        ,  1.        ,\n",
       "        0.        ,  0.        ,  1.        ,  0.        ,  0.        ,\n",
       "        1.        ,  0.        ,  0.        ,  1.        ,  0.        ,\n",
       "        0.        ,  0.        ,  0.        ,  0.        ,  0.        ,\n",
       "        0.        ,  0.        ,  1.        ,  0.        ,  0.        ,\n",
       "        0.        ,  0.        ,  0.        ,  0.33333333,  0.        ,\n",
       "        1.        ,  0.        ,  0.        ,  0.        ,  0.        ,\n",
       "        0.        ,  1.        ,  0.        ,  0.        ,  1.        ,\n",
       "        0.        ,  0.        ,  0.        ,  0.        ,  0.66666667,\n",
       "        0.        ,  1.        ,  0.        ,  1.        ,  1.        ,\n",
       "        0.        ,  0.        ,  0.66666667,  0.        ,  0.        ,\n",
       "        0.33333333,  0.        ,  0.        ,  0.        ,  0.        ,\n",
       "        0.        ,  0.        ,  0.        ,  0.        ,  1.        ,\n",
       "        1.        ,  0.        ,  0.        ,  0.        ,  0.        ,\n",
       "        0.        ,  0.        ,  0.33333333,  0.        ,  0.66666667,\n",
       "        1.        ,  0.        ,  0.        ,  0.        ,  0.        ,\n",
       "        0.33333333,  0.        ,  0.        ,  0.        ,  0.33333333,\n",
       "        0.        ,  1.        ,  0.        ,  0.        ,  0.        ,\n",
       "        0.        ,  0.        ,  1.        ,  0.        ,  0.        ,\n",
       "        1.        ,  0.        ,  1.        ,  0.        ,  0.        ,\n",
       "        0.        ,  1.        ,  0.        ,  1.        ,  0.        ,\n",
       "        1.        ,  0.        ,  0.        ,  0.        ,  0.        ,\n",
       "        0.        ,  1.        ,  1.        ,  0.        ,  0.        ,\n",
       "        1.        ,  0.        ,  0.        ,  0.        ,  0.        ,\n",
       "        0.        ,  1.        ,  1.        ,  0.        ,  0.        ,\n",
       "        1.        ,  0.        ,  0.        ,  0.        ,  0.        ,\n",
       "        0.        ,  0.        ,  0.66666667,  0.        ,  0.        ,\n",
       "        0.        ,  0.        ,  1.        ,  0.        ,  0.        ,\n",
       "        0.33333333,  0.        ,  1.        ,  0.        ,  0.        ,\n",
       "        1.        ,  0.66666667,  0.        ,  0.        ,  1.        ,\n",
       "        1.        ,  0.        ,  0.        ,  0.        ,  1.        ,\n",
       "        0.        ,  0.        ,  0.        ,  1.        ,  0.        ,\n",
       "        1.        ,  0.        ,  1.        ,  0.        ,  0.        ,\n",
       "        0.        ,  0.        ,  1.        ,  0.        ,  0.66666667,\n",
       "        0.        ,  0.        ,  0.66666667,  0.        ,  1.        ,\n",
       "        1.        ,  1.        ,  0.        ,  0.        ,  0.        ,\n",
       "        0.        ,  0.33333333,  0.        ,  1.        ,  0.        ,\n",
       "        0.        ,  0.        ,  0.        ,  0.        ,  0.        ,\n",
       "        0.        ,  1.        ,  0.33333333,  0.        ,  0.        ,\n",
       "        0.        ,  1.        ,  1.        ,  1.        ,  0.        ,\n",
       "        0.        ,  0.        ,  0.33333333,  0.        ,  1.        ,\n",
       "        0.        ,  0.        ,  0.        ,  0.        ,  0.        ,\n",
       "        0.33333333,  0.33333333,  0.        ,  0.        ,  0.        ,\n",
       "        1.        ,  0.        ,  0.        ,  0.66666667,  0.        ,\n",
       "        0.        ,  0.        ,  1.        ,  0.        ,  1.        ,\n",
       "        1.        ,  1.        ,  0.        ,  0.        ,  0.        ,\n",
       "        1.        ,  0.        ,  0.        ,  0.        ,  0.        ,\n",
       "        0.        ,  0.        ,  1.        ,  0.        ,  0.        ,\n",
       "        0.        ,  0.        ,  0.        ,  0.        ,  1.        ,\n",
       "        0.        ,  0.        ,  1.        ,  1.        ,  1.        ,\n",
       "        0.66666667,  1.        ,  0.        ,  0.33333333,  0.        ,\n",
       "        0.        ,  0.        ,  1.        ,  0.        ,  0.        ,\n",
       "        1.        ,  1.        ,  0.        ,  0.        ,  0.66666667,\n",
       "        0.        ,  1.        ,  0.        ,  0.        ,  1.        ,\n",
       "        1.        ,  0.        ,  0.        ,  0.        ,  1.        ,\n",
       "        1.        ,  0.        ,  0.33333333,  0.        ,  0.        ,\n",
       "        0.        ,  0.        ,  1.        ,  0.        ,  0.        ,  0.        ])"
      ]
     },
     "execution_count": 18,
     "metadata": {},
     "output_type": "execute_result"
    }
   ],
   "source": [
    "predictions = (predictions_SVM+predictions_linreg+predictions_logreg)/3\n",
    "predictions"
   ]
  },
  {
   "cell_type": "code",
   "execution_count": null,
   "metadata": {
    "collapsed": true
   },
   "outputs": [],
   "source": []
  },
  {
   "cell_type": "code",
   "execution_count": null,
   "metadata": {
    "collapsed": true
   },
   "outputs": [],
   "source": []
  },
  {
   "cell_type": "code",
   "execution_count": null,
   "metadata": {
    "collapsed": true
   },
   "outputs": [],
   "source": []
  },
  {
   "cell_type": "code",
   "execution_count": null,
   "metadata": {
    "collapsed": true
   },
   "outputs": [],
   "source": []
  },
  {
   "cell_type": "code",
   "execution_count": null,
   "metadata": {
    "collapsed": true
   },
   "outputs": [],
   "source": []
  },
  {
   "cell_type": "code",
   "execution_count": null,
   "metadata": {
    "collapsed": true
   },
   "outputs": [],
   "source": []
  },
  {
   "cell_type": "code",
   "execution_count": null,
   "metadata": {
    "collapsed": true
   },
   "outputs": [],
   "source": []
  },
  {
   "cell_type": "code",
   "execution_count": null,
   "metadata": {
    "collapsed": true
   },
   "outputs": [],
   "source": []
  },
  {
   "cell_type": "code",
   "execution_count": null,
   "metadata": {
    "collapsed": true
   },
   "outputs": [],
   "source": []
  },
  {
   "cell_type": "code",
   "execution_count": null,
   "metadata": {
    "collapsed": true
   },
   "outputs": [],
   "source": []
  }
 ],
 "metadata": {
  "kernelspec": {
   "display_name": "Python 3",
   "language": "python",
   "name": "python3"
  },
  "language_info": {
   "codemirror_mode": {
    "name": "ipython",
    "version": 3
   },
   "file_extension": ".py",
   "mimetype": "text/x-python",
   "name": "python",
   "nbconvert_exporter": "python",
   "pygments_lexer": "ipython3",
   "version": "3.5.1"
  }
 },
 "nbformat": 4,
 "nbformat_minor": 0
}
